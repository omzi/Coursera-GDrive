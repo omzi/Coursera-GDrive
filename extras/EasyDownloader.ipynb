{
  "nbformat": 4,
  "nbformat_minor": 0,
  "metadata": {
    "colab": {
      "name": "EasyDownloader.ipynb",
      "provenance": [],
      "collapsed_sections": []
    },
    "kernelspec": {
      "name": "python3",
      "display_name": "Python 3"
    }
  },
  "cells": [
    {
      "cell_type": "markdown",
      "metadata": {
        "id": "6uzOSd8Q6i0M",
        "colab_type": "text"
      },
      "source": [
        "\n",
        "# Installing\n",
        "<hr>\n",
        "\n",
        "Run this block to install the coursera-GDrive package.\n"
      ]
    },
    {
      "cell_type": "code",
      "metadata": {
        "id": "4OrGweGL6GYh",
        "colab_type": "code",
        "colab": {}
      },
      "source": [
        "pip install --upgrade https://github.com/omzi/coursera-GDrive/tarball/master"
      ],
      "execution_count": 0,
      "outputs": []
    },
    {
      "cell_type": "markdown",
      "metadata": {
        "id": "3HcK_txr7jQf",
        "colab_type": "text"
      },
      "source": [
        "<hr>\n",
        "\n",
        "# Initializing\n",
        "\n",
        "<hr>\n",
        "\n",
        "Initialize the downloader object with default save folder **(COURSERA)**.\n",
        "\n",
        "If you want to change the save folder, you can replace **CourseraDownloader()** with **CourseraDownloader(\"folder_name\")**.\n",
        "\n",
        "```\n",
        "downloader = CourseraDownloader(\"MyCourseras\")\n",
        "```\n",
        "<hr>"
      ]
    },
    {
      "cell_type": "code",
      "metadata": {
        "id": "BAvEI2HB8sMg",
        "colab_type": "code",
        "colab": {}
      },
      "source": [
        "from coursera_gdrive import CourseraDownloader # Import downloader class.\n",
        "\n",
        "downloader = CourseraDownloader()"
      ],
      "execution_count": 0,
      "outputs": []
    },
    {
      "cell_type": "markdown",
      "metadata": {
        "id": "KKWRS_V38wj_",
        "colab_type": "text"
      },
      "source": [
        "<hr>\n",
        "\n",
        "# Authentication and Authorization\n",
        "\n",
        "<hr>\n",
        "\n",
        "\n",
        "Before we go any further, we must authenticate ourselves first. For that purpose, we need to CAUTH token which is using for one of the main authentication method by Coursera.\n",
        "\n",
        "### How to find your Coursera CAUTH token by using your browser?\n",
        "\n",
        "1. First login to 'coursera.org' in your web browser :  \n",
        "2. For example, in chrome, Go to settings\n",
        "3. Advanced\n",
        "4. Privacy and Security\n",
        "5. Site Settings\n",
        "6. Cookies and Site Data\n",
        "7. See all cookies and site data\n",
        "8. coursera.org -> **CAUTH**\n",
        "9. Copy the content and Paste to **`<cauth-token>`**"
      ]
    },
    {
      "cell_type": "code",
      "metadata": {
        "id": "8SSkwjg_-6Qp",
        "colab_type": "code",
        "colab": {}
      },
      "source": [
        "cauth = \"<cauth-token>\" \n",
        "# Enter your CAUTH Token here.\n",
        "\n",
        "downloader.login(cauth)"
      ],
      "execution_count": 0,
      "outputs": []
    },
    {
      "cell_type": "markdown",
      "metadata": {
        "id": "HI1p3l8O_1mh",
        "colab_type": "text"
      },
      "source": [
        "<hr>\n",
        "\n",
        "# Courses Lists\n",
        "\n",
        "<hr>\n",
        "\n",
        "Last one step before download, if you want to see some useful courses list, you should read this section.\n",
        "### How to see all enrolled Courses?"
      ]
    },
    {
      "cell_type": "code",
      "metadata": {
        "id": "HXJjH8ha6hZ3",
        "colab_type": "code",
        "colab": {}
      },
      "source": [
        "downloader.printEnrolledCourses() "
      ],
      "execution_count": 0,
      "outputs": []
    },
    {
      "cell_type": "markdown",
      "metadata": {
        "id": "O8jTWMNrALRj",
        "colab_type": "text"
      },
      "source": [
        "### How to see all available courses in Coursera?"
      ]
    },
    {
      "cell_type": "code",
      "metadata": {
        "id": "OgABSc9u7SW2",
        "colab_type": "code",
        "colab": {}
      },
      "source": [
        "downloader.printAllCourses() "
      ],
      "execution_count": 0,
      "outputs": []
    },
    {
      "cell_type": "markdown",
      "metadata": {
        "id": "J8HlLhUHA62Q",
        "colab_type": "text"
      },
      "source": [
        "<hr>\n",
        "\n",
        "# Downloading the Courses\n",
        "\n",
        "<hr>\n",
        "\n",
        "### How to download all of my enrolled course?\n",
        "It's very straight forward. Just call the download method.\n",
        "```\n",
        "downloader.download()\n",
        "# Downloads all enrolled courses.\n",
        "```\n",
        "### How to download just one course?\n",
        "Make sure that the class name you are using corresponds to the resource name used in the URL for that class:\n",
        "\n",
        "`https://www.coursera.org/learn/<course-name>/home/welcome`\n",
        "\t \n",
        "**Example:**\n",
        "\n",
        "`https://www.coursera.org/learn/`**algorithmic-toolbox**`/home/welcome`\n",
        "\n",
        "```\n",
        "downloader.download(\"<course-name>\") \n",
        "# Downloads just <course-name>.\n",
        "\n",
        "# Example:\n",
        "# downloader.download(\"algorithmic-toolbox\")\n",
        "```\n",
        "### How to download one or more course?\n",
        "\n",
        "There are several methods to download multiple courses easily.\n",
        "-  Multiple Course String Argument\n",
        "\n",
        "```\n",
        "downloader.download(\"<course1>\",\"<course2>\",\"<course3>\",...) \n",
        "# Downloads all the given courses.\n",
        "\n",
        "# Example:\n",
        "# downloader.download(\"algorithmic-toolbox\",\"crypto\",\"iot\",\"python-ar\")\n",
        "```\n",
        "\n",
        "-  Python List Argument\n",
        "\n",
        "```\n",
        "course_list = [\"<course1>\",\"<course2>\",\"<course3>\",...]\n",
        "downloader.download(course_list) \n",
        "# Downloads all courses in python list.\n",
        "\n",
        "# Example:\n",
        "# course_list = [\"algorithmic-toolbox\",\"crypto\",\"iot\",\"python-ar\"]\n",
        "# downloader.download(course_list)\n",
        "```\n",
        "-  Passing a text file as an argument\n",
        "Make sure that,\n",
        "\t1. Course names in text file are separated by a newline.\n",
        "\t2. Text file is in the save folder. ( Default: COURSERA )\n",
        "\n",
        "```\n",
        "downloader.download(\"<courselist.txt>\") \n",
        "# Downloads all courses in text file.\n",
        "\n",
        "# Example:\n",
        "# downloader.download(\"course_list.txt\")\n",
        "```\n",
        "\n",
        "- Passing mixed arguments\n",
        "\n",
        "```\n",
        "course_list = [\"<course-x>\",\"<course-y>\",\"<course-z>\",...]\n",
        "downloader.download(\"<course1>\",\"<course2>\",\"<course3>\",\"<courselist.txt>\",course_list) \n",
        "# Downloads all the given courses, courses in text file and courses in python list.\n",
        "```"
      ]
    },
    {
      "cell_type": "code",
      "metadata": {
        "id": "6GNMHnC0BPRO",
        "colab_type": "code",
        "colab": {}
      },
      "source": [
        "downloader.download() # Download all enrolled courses."
      ],
      "execution_count": 0,
      "outputs": []
    }
  ]
}
